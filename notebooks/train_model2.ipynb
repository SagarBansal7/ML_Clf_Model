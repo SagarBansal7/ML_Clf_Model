{
 "cells": [
  {
   "cell_type": "code",
   "execution_count": 0,
   "metadata": {
    "application/vnd.databricks.v1+cell": {
     "cellMetadata": {
      "byteLimit": 2048000,
      "rowLimit": 10000
     },
     "inputWidgets": {},
     "nuid": "6e56028c-df77-4000-a265-7c2aa5c8176d",
     "showTitle": false,
     "tableResultSettingsMap": {},
     "title": ""
    }
   },
   "outputs": [],
   "source": [
    "# Databricks Notebook: Model Training & Registration\n",
    "\n",
    "import mlflow\n",
    "import mlflow.sklearn\n",
    "import pandas as pd\n",
    "from pyspark.sql import SparkSession\n",
    "from sklearn.model_selection import train_test_split\n",
    "from sklearn.linear_model import LogisticRegression\n",
    "from sklearn.metrics import accuracy_score\n",
    "from sklearn.preprocessing import StandardScaler\n",
    "from mlflow.models import infer_signature  \n",
    "# Step 1: Initialize SparkSession\n",
    "spark = SparkSession.builder.appName(\"LoanClassification\").getOrCreate()\n",
    "\n",
    "# Step 2: Load Databricks Sample Dataset (Lending Club)\n",
    "df = spark.read.parquet(\"/databricks-datasets/samples/lending_club/parquet/\")\n",
    "\n",
    "# Step 3: Save Data to Table\n",
    "# Save the data to a Databricks table for future use\n",
    "df.write.format(\"delta\").mode(\"overwrite\").saveAsTable(\"loan_data\")\n",
    "\n",
    "# Step 4: Load the Data Back from the Table\n",
    "df_table = spark.read.table(\"loan_data\")\n",
    "\n",
    "# Step 5: Convert the DataFrame to Pandas for Feature Engineering\n",
    "df_pandas = df_table.toPandas()\n",
    "\n",
    "# Step 6: Feature Engineering\n",
    "# Remove unnecessary columns and handle missing values\n",
    "df_pandas = df_pandas.dropna(subset=['loan_amnt', 'funded_amnt', 'int_rate', 'installment', 'annual_inc', 'dti', 'delinq_2yrs', 'loan_status'])\n",
    "\n",
    "# Select relevant columns for classification\n",
    "df_pandas = df_pandas[[\"loan_amnt\", \"funded_amnt\", \"term\", \"int_rate\", \"installment\", \"annual_inc\", \"dti\", \"delinq_2yrs\", \"loan_status\"]]\n",
    "\n",
    "# Convert categorical columns (e.g., term)\n",
    "df_pandas[\"term\"] = df_pandas[\"term\"].str.replace(\" months\", \"\").astype(int)\n",
    "\n",
    "# Step 6: Convert string to float\n",
    "df_pandas['int_rate'] = df_pandas['int_rate'].str.replace('%', '').astype(float)\n",
    "\n",
    "# Create target variable (binary classification: 1 for default, 0 for paid)\n",
    "df_pandas[\"loan_status\"] = df_pandas[\"loan_status\"].apply(lambda x: 1 if x == \"Charged Off\" else 0)\n",
    "\n",
    "# Define features and target variable\n",
    "X = df_pandas.drop(columns=[\"loan_status\"])\n",
    "y = df_pandas[\"loan_status\"]\n",
    "\n",
    "# Step 7: Data Preprocessing (Normalization)\n",
    "scaler = StandardScaler()\n",
    "X_scaled = scaler.fit_transform(X)\n",
    "\n",
    "# Step 8: Train-Test Split\n",
    "X_train, X_test, y_train, y_test = train_test_split(X_scaled, y, test_size=0.2, random_state=42)\n",
    "\n",
    "# Workaround to set the registry URI manually\n",
    "#mlflow.tracking._model_registry.utils._get_registry_uri_from_spark_session = lambda: \"databricks-uc\"\n",
    "mlflow.set_registry_uri(\"databricks\")\n",
    "\n",
    "# Step 9: Model Training (Logistic Regression)\n",
    "run_id = ''\n",
    "with mlflow.start_run():\n",
    "    model = LogisticRegression(max_iter=500, random_state=42)\n",
    "    model.fit(X_train, y_train)\n",
    "\n",
    "    # Step 10: Evaluate the Model\n",
    "    y_pred = model.predict(X_test)\n",
    "    accuracy = accuracy_score(y_test, y_pred)\n",
    "\n",
    "    # Log metrics to MLflow\n",
    "    mlflow.log_metric(\"accuracy\", accuracy)\n",
    "\n",
    "    # Infer the model signature\n",
    "    signature = infer_signature(X_train, model.predict(X_train))\n",
    "\n",
    "    # Log the model to MLflow's Model Registry with the signature\n",
    "    mlflow.sklearn.log_model(model, \"loan_model5\", signature=signature)\n",
    "\n",
    "    print(f\"✅ Model trained with accuracy: {accuracy:.4f}\")\n",
    "\n",
    "    # Step 11: Register the Model (if desired)\n",
    "    model_uri = f\"runs:/{mlflow.active_run().info.run_id}/loan_model5\"\n",
    "    \n",
    "    run_id = mlflow.active_run().info.run_id\n",
    "    mlflow.end_run()"
   ]
  },
  {
   "cell_type": "code",
   "execution_count": 0,
   "metadata": {
    "application/vnd.databricks.v1+cell": {
     "cellMetadata": {
      "byteLimit": 2048000,
      "rowLimit": 10000
     },
     "inputWidgets": {},
     "nuid": "dacf904f-b3da-4a5e-9979-3e507ea57cfb",
     "showTitle": false,
     "tableResultSettingsMap": {},
     "title": ""
    }
   },
   "outputs": [],
   "source": [
    "# Workaround to set the registry URI manually\n",
    "#mlflow.tracking._model_registry.utils._get_registry_uri_from_spark_session = lambda: \"databricks-uc\"\n",
    "mlflow.set_registry_uri(\"databricks\")\n",
    "\n",
    "# Step 9: Model Training (Logistic Regression)\n",
    "run_id = ''\n",
    "with mlflow.start_run():\n",
    "    model = LogisticRegression(max_iter=500, random_state=42)\n",
    "    model.fit(X_train, y_train)\n",
    "\n",
    "    # Step 10: Evaluate the Model\n",
    "    y_pred = model.predict(X_test)\n",
    "    accuracy = accuracy_score(y_test, y_pred)\n",
    "\n",
    "    # Log metrics to MLflow\n",
    "    mlflow.log_metric(\"accuracy\", accuracy)\n",
    "\n",
    "    # Infer the model signature\n",
    "    signature = infer_signature(X_train, model.predict(X_train))\n",
    "\n",
    "    # Log the model to MLflow's Model Registry with the signature\n",
    "    mlflow.sklearn.log_model(model, \"loan_model7\", signature=signature)\n",
    "\n",
    "    print(f\"✅ Model trained with accuracy: {accuracy:.4f}\")\n",
    "\n",
    "    # Step 11: Register the Model (if desired)\n",
    "    model_uri = f\"runs:/{mlflow.active_run().info.run_id}/loan_model7\"\n",
    "    \n",
    "    run_id = mlflow.active_run().info.run_id\n",
    "    mlflow.end_run()"
   ]
  },
  {
   "cell_type": "code",
   "execution_count": 0,
   "metadata": {
    "application/vnd.databricks.v1+cell": {
     "cellMetadata": {
      "byteLimit": 2048000,
      "rowLimit": 10000
     },
     "inputWidgets": {},
     "nuid": "995fe1d4-49a1-4730-8aae-7f2185065248",
     "showTitle": false,
     "tableResultSettingsMap": {},
     "title": ""
    }
   },
   "outputs": [],
   "source": [
    "# mlflow.register_model(model_uri, \"loan_model5\")"
   ]
  },
  {
   "cell_type": "code",
   "execution_count": 0,
   "metadata": {
    "application/vnd.databricks.v1+cell": {
     "cellMetadata": {},
     "inputWidgets": {},
     "nuid": "ce7c3637-e155-4067-8653-28e0647ed994",
     "showTitle": false,
     "tableResultSettingsMap": {},
     "title": ""
    }
   },
   "outputs": [],
   "source": [
    "dbfs:/databricks/mlflow-tracking/e8e3a7829a0a4ab684162d1e8632903c/c3f7dcc2a134473c8f35be0cab06575c/artifacts/loan_model5"
   ]
  },
  {
   "cell_type": "code",
   "execution_count": 0,
   "metadata": {
    "application/vnd.databricks.v1+cell": {
     "cellMetadata": {
      "byteLimit": 2048000,
      "rowLimit": 10000
     },
     "inputWidgets": {},
     "nuid": "f199e968-e370-4b0f-8e54-f97f746557fa",
     "showTitle": false,
     "tableResultSettingsMap": {},
     "title": ""
    }
   },
   "outputs": [],
   "source": [
    "!pip install dagshub"
   ]
  },
  {
   "cell_type": "code",
   "execution_count": 0,
   "metadata": {
    "application/vnd.databricks.v1+cell": {
     "cellMetadata": {
      "byteLimit": 2048000,
      "rowLimit": 10000
     },
     "inputWidgets": {},
     "nuid": "c14f1790-c0c2-4aab-b855-25951e3177c6",
     "showTitle": false,
     "tableResultSettingsMap": {},
     "title": ""
    }
   },
   "outputs": [],
   "source": [
    "import dagshub\n",
    "dagshub.init(repo_owner='SagarBansal7', repo_name='ML_Clf_Model', mlflow=True)"
   ]
  },
  {
   "cell_type": "code",
   "execution_count": 0,
   "metadata": {
    "application/vnd.databricks.v1+cell": {
     "cellMetadata": {
      "byteLimit": 2048000,
      "rowLimit": 10000
     },
     "inputWidgets": {},
     "nuid": "20ee32d6-bd82-4b62-bfe6-ded5f2ec9412",
     "showTitle": false,
     "tableResultSettingsMap": {},
     "title": ""
    }
   },
   "outputs": [],
   "source": [
    "import os\n",
    "os.environ['MLFLOW_TRACKING_USERNAME'] = 'SagarBansal7' # \n",
    "os.environ['MLFLOW_TRACKING_PASSWORD'] = 'fdc73b6cc7d7bf7fb2aaf90496a67f85e4a35993' # \n",
    "os.environ['MLFLOW_TRACKING_URI'] = 'https://dagshub.com/api/v1/repo-buckets/s3/SagarBansal7'"
   ]
  },
  {
   "cell_type": "code",
   "execution_count": 0,
   "metadata": {
    "application/vnd.databricks.v1+cell": {
     "cellMetadata": {
      "byteLimit": 2048000,
      "rowLimit": 10000
     },
     "inputWidgets": {},
     "nuid": "0084f581-79ca-40ed-aa77-28e59b8d4249",
     "showTitle": false,
     "tableResultSettingsMap": {},
     "title": ""
    }
   },
   "outputs": [],
   "source": [
    "run_id = ''\n",
    "\n",
    "mlflow.set_registry_uri(os.environ['MLFLOW_TRACKING_URI'])\n",
    "with mlflow.start_run():\n",
    "    model = LogisticRegression(max_iter=500, random_state=42)\n",
    "    model.fit(X_train, y_train)\n",
    "\n",
    "    # Step 10: Evaluate the Model\n",
    "    y_pred = model.predict(X_test)\n",
    "    accuracy = accuracy_score(y_test, y_pred)\n",
    "\n",
    "    # Log metrics to MLflow\n",
    "    mlflow.log_metric(\"accuracy\", accuracy)\n",
    "\n",
    "    # Infer the model signature\n",
    "    signature = infer_signature(X_train, model.predict(X_train))\n",
    "\n",
    "    # Log the model to MLflow's Model Registry with the signature\n",
    "    mlflow.sklearn.log_model(model, \"loan_model6\", signature=signature)\n",
    "\n",
    "    print(f\"✅ Model trained with accuracy: {accuracy:.4f}\")\n",
    "\n",
    "    # Step 11: Register the Model (if desired)\n",
    "    model_uri = os.environ['MLFLOW_TRACKING_URI']\n",
    "    \n",
    "    run_id = mlflow.active_run().info.run_id\n",
    "    mlflow.end_run()"
   ]
  },
  {
   "cell_type": "code",
   "execution_count": 0,
   "metadata": {
    "application/vnd.databricks.v1+cell": {
     "cellMetadata": {
      "byteLimit": 2048000,
      "rowLimit": 10000
     },
     "inputWidgets": {},
     "nuid": "ea13c07d-2666-46bc-890b-311e64b6f577",
     "showTitle": false,
     "tableResultSettingsMap": {},
     "title": ""
    }
   },
   "outputs": [],
   "source": [
    "model_name = 'loan_model6'\n",
    "#run_id=input('Please type RunID')\n",
    "model_uri = 'dbfs:/databricks/mlflow-tracking/e8e3a7829a0a4ab684162d1e8632903c/ff2edb52b2ea4342a7cfc94386b46e03/artifacts/loan_model6'\n",
    "#f'runs:/{run_id}/model_name'\n",
    "\n",
    "with mlflow.start_run(run_id=run_id):\n",
    "    mlflow.register_model(model_uri=model_uri, name=model_name)"
   ]
  },
  {
   "cell_type": "code",
   "execution_count": 0,
   "metadata": {
    "application/vnd.databricks.v1+cell": {
     "cellMetadata": {},
     "inputWidgets": {},
     "nuid": "53aeda66-dfeb-4154-a5f8-1db8c129bf96",
     "showTitle": false,
     "tableResultSettingsMap": {},
     "title": ""
    }
   },
   "outputs": [],
   "source": [
    "model_version = 1\n",
    "model_uri = f\"models:/{model_name}/{model_version}\"\n",
    "\n",
    "loaded_model = mlflow.xgboost.load_model(model_uri)\n",
    "y_pred = loaded_model.predict(X_test)\n",
    "y_pred[:4]"
   ]
  },
  {
   "cell_type": "code",
   "execution_count": 0,
   "metadata": {
    "application/vnd.databricks.v1+cell": {
     "cellMetadata": {
      "byteLimit": 2048000,
      "rowLimit": 10000
     },
     "inputWidgets": {},
     "nuid": "3fc5982a-4f35-4ef7-a630-05c31e303dba",
     "showTitle": false,
     "tableResultSettingsMap": {},
     "title": ""
    }
   },
   "outputs": [],
   "source": [
    "mlflow.active_run()"
   ]
  },
  {
   "cell_type": "code",
   "execution_count": 0,
   "metadata": {
    "application/vnd.databricks.v1+cell": {
     "cellMetadata": {},
     "inputWidgets": {},
     "nuid": "0bc5ee8a-c414-421c-9629-50ca7cb6372f",
     "showTitle": false,
     "tableResultSettingsMap": {},
     "title": ""
    }
   },
   "outputs": [],
   "source": []
  }
 ],
 "metadata": {
  "application/vnd.databricks.v1+notebook": {
   "computePreferences": null,
   "dashboards": [],
   "environmentMetadata": {
    "base_environment": "",
    "environment_version": "2"
   },
   "language": "python",
   "notebookMetadata": {
    "pythonIndentUnit": 4
   },
   "notebookName": "train_model2",
   "widgets": {}
  },
  "language_info": {
   "name": "python"
  }
 },
 "nbformat": 4,
 "nbformat_minor": 0
}
