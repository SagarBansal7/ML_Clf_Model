{
 "cells": [
  {
   "cell_type": "code",
   "execution_count": 0,
   "metadata": {
    "application/vnd.databricks.v1+cell": {
     "cellMetadata": {
      "byteLimit": 2048000,
      "rowLimit": 10000
     },
     "inputWidgets": {},
     "nuid": "92abf2c1-9872-4378-8745-59b33814e804",
     "showTitle": false,
     "tableResultSettingsMap": {},
     "title": ""
    }
   },
   "outputs": [],
   "source": [
    "# Databricks Notebook: Model Training & Registration\n",
    "\n",
    "import mlflow\n",
    "import mlflow.sklearn\n",
    "import pandas as pd\n",
    "from pyspark.sql import SparkSession\n",
    "from pyspark.sql.functions import col\n",
    "from sklearn.model_selection import train_test_split\n",
    "from sklearn.linear_model import LogisticRegression\n",
    "from sklearn.metrics import accuracy_score\n",
    "\n",
    "# Enable automatic logging\n",
    "mlflow.sklearn.autolog()\n",
    "\n",
    "# Initialize Spark Session\n",
    "spark = SparkSession.builder.appName(\"LoanClassification\").getOrCreate()\n",
    "\n",
    "# Load Databricks Sample Dataset\n",
    "df = spark.read.parquet(\"/databricks-datasets/samples/lending_club/parquet/\").toPandas()\n",
    "\n",
    "# Select relevant columns for classification\n",
    "df = df[[\"loan_amnt\", \"funded_amnt\", \"term\", \"int_rate\", \"installment\", \"annual_inc\", \"dti\", \"delinq_2yrs\", \"loan_status\"]]\n",
    "\n",
    "#Drop NA values\n",
    "df.dropna(inplace = True)\n",
    "\n",
    "# Convert categorical columns\n",
    "df[\"term\"] = df[\"term\"].str.replace(\" months\", \"\").astype(int)\n",
    "\n",
    "# Convert target variable: 'loan_status' (Binary classification: Default (1) or Paid (0))\n",
    "df[\"loan_status\"] = df[\"loan_status\"].apply(lambda x: 1 if x == \"Charged Off\" else 0)\n",
    "\n",
    "# Define features & target\n",
    "X = df.drop(columns=[\"loan_status\"])\n",
    "y = df[\"loan_status\"]\n",
    "\n",
    "# Train-test split\n",
    "X_train, X_test, y_train, y_test = train_test_split(X, y, test_size=0.2, random_state=42)\n",
    "\n",
    "# Model Training\n",
    "with mlflow.start_run():\n",
    "    model = LogisticRegression(max_iter=500)\n",
    "    model.fit(X_train, y_train)\n",
    "    \n",
    "    # Predictions\n",
    "    y_pred = model.predict(X_test)\n",
    "    accuracy = accuracy_score(y_test, y_pred)\n",
    "    \n",
    "    # Log metrics\n",
    "    mlflow.log_metric(\"accuracy\", accuracy)\n",
    "    \n",
    "    # Register model in Databricks Model Registry\n",
    "    mlflow.sklearn.log_model(model, \"loan_default_model\")\n",
    "    \n",
    "    print(f\"✅ Model trained with accuracy: {accuracy:.4f}\")\n",
    "\n",
    "# Register the model under a specific name\n",
    "model_uri = f\"runs:/{mlflow.active_run().info.run_id}/loan_default_model\"\n",
    "mlflow.register_model(model_uri, \"loan_default_model\")\n"
   ]
  },
  {
   "cell_type": "code",
   "execution_count": 0,
   "metadata": {
    "application/vnd.databricks.v1+cell": {
     "cellMetadata": {
      "byteLimit": 2048000,
      "rowLimit": 10000
     },
     "inputWidgets": {},
     "nuid": "8579560c-09c7-4640-88d2-e64f2a9776b8",
     "showTitle": false,
     "tableResultSettingsMap": {},
     "title": ""
    }
   },
   "outputs": [],
   "source": [
    "(df[\"term\"]!=df[\"term\"]).sum()"
   ]
  },
  {
   "cell_type": "code",
   "execution_count": 0,
   "metadata": {
    "application/vnd.databricks.v1+cell": {
     "cellMetadata": {},
     "inputWidgets": {},
     "nuid": "22984949-9c9b-46eb-9586-de36b67e1070",
     "showTitle": false,
     "tableResultSettingsMap": {},
     "title": ""
    }
   },
   "outputs": [],
   "source": []
  }
 ],
 "metadata": {
  "application/vnd.databricks.v1+notebook": {
   "computePreferences": null,
   "dashboards": [],
   "environmentMetadata": {
    "base_environment": "",
    "environment_version": "2"
   },
   "language": "python",
   "notebookMetadata": {
    "pythonIndentUnit": 4
   },
   "notebookName": "train_model.ipynb",
   "widgets": {}
  },
  "language_info": {
   "name": "python"
  }
 },
 "nbformat": 4,
 "nbformat_minor": 0
}
