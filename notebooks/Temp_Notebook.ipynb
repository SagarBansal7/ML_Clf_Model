{
 "cells": [
  {
   "cell_type": "code",
   "execution_count": 0,
   "metadata": {
    "application/vnd.databricks.v1+cell": {
     "cellMetadata": {
      "byteLimit": 2048000,
      "rowLimit": 10000
     },
     "inputWidgets": {},
     "nuid": "33c02b1c-2f85-4819-b24e-c0808796345a",
     "showTitle": false,
     "tableResultSettingsMap": {},
     "title": ""
    }
   },
   "outputs": [],
   "source": [
    "import mlflow\n",
    "mlflow.set_registry_uri(\"databricks-uc\")"
   ]
  },
  {
   "cell_type": "code",
   "execution_count": 0,
   "metadata": {
    "application/vnd.databricks.v1+cell": {
     "cellMetadata": {
      "byteLimit": 2048000,
      "rowLimit": 10000
     },
     "inputWidgets": {},
     "nuid": "48e3449a-ea9e-4590-b63e-b33e19867358",
     "showTitle": false,
     "tableResultSettingsMap": {},
     "title": ""
    }
   },
   "outputs": [],
   "source": [
    "CATALOG_NAME = \"main\"\n",
    "SCHEMA_NAME = \"default\""
   ]
  },
  {
   "cell_type": "code",
   "execution_count": 0,
   "metadata": {
    "application/vnd.databricks.v1+cell": {
     "cellMetadata": {
      "byteLimit": 2048000,
      "rowLimit": 10000
     },
     "inputWidgets": {},
     "nuid": "c6ea24ef-13be-490c-a7b2-ba0ba5245600",
     "showTitle": false,
     "tableResultSettingsMap": {},
     "title": ""
    }
   },
   "outputs": [],
   "source": [
    "sql(\"CREATE CATALOG default\")"
   ]
  },
  {
   "cell_type": "code",
   "execution_count": 0,
   "metadata": {
    "application/vnd.databricks.v1+cell": {
     "cellMetadata": {
      "byteLimit": 2048000,
      "rowLimit": 10000
     },
     "inputWidgets": {},
     "nuid": "b50a7a62-4ff5-4bc3-ba49-67447a786aee",
     "showTitle": false,
     "tableResultSettingsMap": {},
     "title": ""
    }
   },
   "outputs": [],
   "source": [
    "white_wine = spark.read.csv(\"/databricks-datasets/wine-quality/winequality-white.csv\", sep=';', header=True)\n",
    "red_wine = spark.read.csv(\"/databricks-datasets/wine-quality/winequality-red.csv\", sep=';', header=True)\n",
    "\n",
    "# Remove the spaces from the column names\n",
    "for c in white_wine.columns:\n",
    "    white_wine = white_wine.withColumnRenamed(c, c.replace(\" \", \"_\"))\n",
    "for c in red_wine.columns:\n",
    "    red_wine = red_wine.withColumnRenamed(c, c.replace(\" \", \"_\"))\n",
    "\n",
    "# Define table names\n",
    "red_wine_table = f\"{CATALOG_NAME}.{SCHEMA_NAME}.red_wine\"\n",
    "white_wine_table = f\"{CATALOG_NAME}.{SCHEMA_NAME}.white_wine\"\n",
    "\n",
    "# Write to tables in Unity Catalog\n",
    "spark.sql(f\"DROP TABLE IF EXISTS {red_wine_table}\")\n",
    "spark.sql(f\"DROP TABLE IF EXISTS {white_wine_table}\")\n",
    "white_wine.write.saveAsTable(f\"{CATALOG_NAME}.{SCHEMA_NAME}.white_wine\")\n",
    "red_wine.write.saveAsTable(f\"{CATALOG_NAME}.{SCHEMA_NAME}.red_wine\")"
   ]
  },
  {
   "cell_type": "code",
   "execution_count": 0,
   "metadata": {
    "application/vnd.databricks.v1+cell": {
     "cellMetadata": {
      "byteLimit": 2048000,
      "rowLimit": 10000
     },
     "inputWidgets": {},
     "nuid": "d8ca58aa-2c4d-4d10-ad50-6d507b242f42",
     "showTitle": false,
     "tableResultSettingsMap": {},
     "title": ""
    }
   },
   "outputs": [],
   "source": [
    "!pip install hyperopt"
   ]
  },
  {
   "cell_type": "code",
   "execution_count": 0,
   "metadata": {
    "application/vnd.databricks.v1+cell": {
     "cellMetadata": {
      "byteLimit": 2048000,
      "rowLimit": 10000
     },
     "inputWidgets": {},
     "nuid": "48aaf7d8-1628-483e-93e5-4b6b5ad84f5a",
     "showTitle": false,
     "tableResultSettingsMap": {},
     "title": ""
    }
   },
   "outputs": [],
   "source": [
    "import numpy as np\n",
    "import pandas as pd\n",
    "import sklearn.datasets\n",
    "import sklearn.metrics\n",
    "import sklearn.model_selection\n",
    "import sklearn.ensemble\n",
    "\n",
    "import matplotlib.pyplot as plt\n",
    "\n",
    "from hyperopt import fmin, tpe, hp, SparkTrials, Trials, STATUS_OK\n",
    "from hyperopt.pyll import scope"
   ]
  },
  {
   "cell_type": "code",
   "execution_count": 0,
   "metadata": {
    "application/vnd.databricks.v1+cell": {
     "cellMetadata": {
      "byteLimit": 2048000,
      "rowLimit": 10000
     },
     "inputWidgets": {},
     "nuid": "52257b99-66ba-46af-989b-79362db3dda3",
     "showTitle": false,
     "tableResultSettingsMap": {},
     "title": ""
    }
   },
   "outputs": [],
   "source": [
    "# Load data from Unity Catalog as Pandas dataframes\n",
    "white_wine = spark.read.table(f\"{CATALOG_NAME}.{SCHEMA_NAME}.white_wine\").toPandas()\n",
    "red_wine = spark.read.table(f\"{CATALOG_NAME}.{SCHEMA_NAME}.red_wine\").toPandas()\n",
    "\n",
    "# Add Boolean fields for red and white wine\n",
    "white_wine['is_red'] = 0.0\n",
    "red_wine['is_red'] = 1.0\n",
    "data_df = pd.concat([white_wine, red_wine], axis=0)\n",
    "\n",
    "# Define classification labels based on the wine quality\n",
    "data_labels = data_df['quality'].astype('int') >= 7\n",
    "data_df = data_df.drop(['quality'], axis=1)\n",
    "\n",
    "# Split 80/20 train-test\n",
    "X_train, X_test, y_train, y_test = sklearn.model_selection.train_test_split(\n",
    "  data_df,\n",
    "  data_labels,\n",
    "  test_size=0.2,\n",
    "  random_state=1\n",
    ")"
   ]
  },
  {
   "cell_type": "code",
   "execution_count": 0,
   "metadata": {
    "application/vnd.databricks.v1+cell": {
     "cellMetadata": {
      "byteLimit": 2048000,
      "rowLimit": 10000
     },
     "inputWidgets": {},
     "nuid": "a9236e4a-8f71-4cb1-b5ca-9bafd612686d",
     "showTitle": false,
     "tableResultSettingsMap": {},
     "title": ""
    }
   },
   "outputs": [],
   "source": [
    "y_test"
   ]
  },
  {
   "cell_type": "code",
   "execution_count": 0,
   "metadata": {
    "application/vnd.databricks.v1+cell": {
     "cellMetadata": {
      "byteLimit": 2048000,
      "rowLimit": 10000
     },
     "inputWidgets": {},
     "nuid": "5dcf4a25-ff87-46d1-8de8-a23a377bbd72",
     "showTitle": false,
     "tableResultSettingsMap": {},
     "title": ""
    }
   },
   "outputs": [],
   "source": [
    "mlflow.autolog()"
   ]
  },
  {
   "cell_type": "code",
   "execution_count": 0,
   "metadata": {
    "application/vnd.databricks.v1+cell": {
     "cellMetadata": {
      "byteLimit": 2048000,
      "rowLimit": 10000
     },
     "inputWidgets": {},
     "nuid": "decae615-0e16-40fb-8e2a-93c650b67ff3",
     "showTitle": false,
     "tableResultSettingsMap": {},
     "title": ""
    }
   },
   "outputs": [],
   "source": [
    "df = sql(\"SELECT * FROM workspace.wine_quality_data.wine_quality_predictions\").toPandas()\n",
    "\n",
    "df.head()"
   ]
  },
  {
   "cell_type": "code",
   "execution_count": 0,
   "metadata": {
    "application/vnd.databricks.v1+cell": {
     "cellMetadata": {
      "byteLimit": 2048000,
      "rowLimit": 10000
     },
     "inputWidgets": {},
     "nuid": "09780b68-f53d-47eb-ab04-a2f589542836",
     "showTitle": false,
     "tableResultSettingsMap": {},
     "title": ""
    }
   },
   "outputs": [],
   "source": [
    "with mlflow.start_run(run_name='gradient_boost') as run:\n",
    "    model = sklearn.ensemble.GradientBoostingClassifier(random_state=0)\n",
    "\n",
    "    # Models, parameters, and training metrics are tracked automatically\n",
    "    model.fit(X_train, y_train)\n",
    "\n",
    "    predicted_probs = model.predict_proba(X_test)\n",
    "    roc_auc = sklearn.metrics.roc_auc_score(y_test, predicted_probs[:,1])\n",
    "    roc_curve = sklearn.metrics.RocCurveDisplay.from_estimator(model, X_test, y_test)\n",
    "\n",
    "    # Save the ROC curve plot to a file\n",
    "    roc_curve.figure_.savefig(\"roc_curve.png\")\n",
    "\n",
    "    # The AUC score on test data is not automatically logged, so log it manually\n",
    "    mlflow.log_metric(\"test_auc\", roc_auc)\n",
    "\n",
    "    # Log the ROC curve image file as an artifact\n",
    "    mlflow.log_artifact(\"roc_curve.png\")\n",
    "\n",
    "    print(\"Test AUC of: {}\".format(roc_auc))"
   ]
  },
  {
   "cell_type": "code",
   "execution_count": 0,
   "metadata": {
    "application/vnd.databricks.v1+cell": {
     "cellMetadata": {
      "byteLimit": 2048000,
      "rowLimit": 10000
     },
     "inputWidgets": {},
     "nuid": "dd39db4e-1544-464c-90d0-5737551fd830",
     "showTitle": false,
     "tableResultSettingsMap": {},
     "title": ""
    }
   },
   "outputs": [],
   "source": [
    "# Define the search space to explore\n",
    "search_space = {\n",
    "  'n_estimators': scope.int(hp.quniform('n_estimators', 20, 1000, 1)),\n",
    "  'learning_rate': hp.loguniform('learning_rate', -3, 0),\n",
    "  'max_depth': scope.int(hp.quniform('max_depth', 2, 5, 1)),\n",
    "}\n",
    "\n",
    "def train_model(params):\n",
    "  # Enable autologging on each worker\n",
    "  mlflow.autolog()\n",
    "  with mlflow.start_run(nested=True):\n",
    "    model_hp = sklearn.ensemble.GradientBoostingClassifier(\n",
    "      random_state=0,\n",
    "      **params\n",
    "    )\n",
    "    model_hp.fit(X_train, y_train)\n",
    "    predicted_probs = model_hp.predict_proba(X_test)\n",
    "    # Tune based on the test AUC\n",
    "    # In production, you could use a separate validation set instead\n",
    "    roc_auc = sklearn.metrics.roc_auc_score(y_test, predicted_probs[:,1])\n",
    "    mlflow.log_metric('test_auc', roc_auc)\n",
    "\n",
    "    # Set the loss to -1*auc_score so fmin maximizes the auc_score\n",
    "    return {'status': STATUS_OK, 'loss': -1*roc_auc}\n",
    "\n",
    "# SparkTrials distributes the tuning using Spark workers\n",
    "# Greater parallelism speeds processing, but each hyperparameter trial has less information from other trials\n",
    "# On smaller clusters try setting parallelism=2\n",
    "spark_trials = SparkTrials(\n",
    "  parallelism=1\n",
    ")\n",
    "\n",
    "with mlflow.start_run(run_name='gb_hyperopt') as run:\n",
    "  # Use hyperopt to find the parameters yielding the highest AUC\n",
    "  best_params = fmin(\n",
    "    fn=train_model,\n",
    "    space=search_space,\n",
    "    algo=tpe.suggest,\n",
    "    max_evals=32,\n",
    "    trials=spark_trials)"
   ]
  },
  {
   "cell_type": "code",
   "execution_count": 0,
   "metadata": {
    "application/vnd.databricks.v1+cell": {
     "cellMetadata": {
      "byteLimit": 2048000,
      "rowLimit": 10000
     },
     "inputWidgets": {},
     "nuid": "154b6050-676a-47f5-a277-788020e9a6cc",
     "showTitle": false,
     "tableResultSettingsMap": {},
     "title": ""
    }
   },
   "outputs": [],
   "source": [
    "# Sort runs by their test auc. In case of ties, use the most recent run.\n",
    "best_run = mlflow.search_runs(\n",
    "  order_by=['metrics.test_auc DESC', 'start_time DESC'],\n",
    "  max_results=10,\n",
    ").iloc[0]\n",
    "print('Best Run')\n",
    "print('AUC: {}'.format(best_run[\"metrics.test_auc\"]))\n",
    "print('Num Estimators: {}'.format(best_run[\"params.n_estimators\"]))\n",
    "print('Max Depth: {}'.format(best_run[\"params.max_depth\"]))\n",
    "print('Learning Rate: {}'.format(best_run[\"params.learning_rate\"]))"
   ]
  },
  {
   "cell_type": "code",
   "execution_count": 0,
   "metadata": {
    "application/vnd.databricks.v1+cell": {
     "cellMetadata": {
      "byteLimit": 2048000,
      "rowLimit": 10000
     },
     "inputWidgets": {},
     "nuid": "c5cf1503-0c47-4a5c-aa89-95318e894539",
     "showTitle": false,
     "tableResultSettingsMap": {},
     "title": ""
    }
   },
   "outputs": [],
   "source": [
    "import mlflow\n",
    "print(mlflow.get_tracking_uri())"
   ]
  },
  {
   "cell_type": "code",
   "execution_count": 0,
   "metadata": {
    "application/vnd.databricks.v1+cell": {
     "cellMetadata": {
      "byteLimit": 2048000,
      "rowLimit": 10000
     },
     "inputWidgets": {},
     "nuid": "2ac19535-6945-41a6-9a2d-8926b4311fb7",
     "showTitle": false,
     "tableResultSettingsMap": {},
     "title": ""
    }
   },
   "outputs": [],
   "source": [
    "best_run.run_id"
   ]
  },
  {
   "cell_type": "code",
   "execution_count": 0,
   "metadata": {
    "application/vnd.databricks.v1+cell": {
     "cellMetadata": {
      "byteLimit": 2048000,
      "rowLimit": 10000
     },
     "inputWidgets": {},
     "nuid": "e3c4e2b7-11e1-4017-b3d1-ef9b83777a1d",
     "showTitle": false,
     "tableResultSettingsMap": {},
     "title": ""
    }
   },
   "outputs": [],
   "source": [
    "model_uri = 'runs:/ebba5aed46c44cf181c56b5f9804106c/model'.format(\n",
    "    run_id=best_run.run_id\n",
    "  )\n",
    "\n",
    "mlflow.register_model(model_uri, f\"{CATALOG_NAME}.{SCHEMA_NAME}.temp_quality_model\")"
   ]
  },
  {
   "cell_type": "code",
   "execution_count": 0,
   "metadata": {
    "application/vnd.databricks.v1+cell": {
     "cellMetadata": {},
     "inputWidgets": {},
     "nuid": "41824170-0c20-4a6e-a7f4-eea6249b1f91",
     "showTitle": false,
     "tableResultSettingsMap": {},
     "title": ""
    }
   },
   "outputs": [],
   "source": []
  }
 ],
 "metadata": {
  "application/vnd.databricks.v1+notebook": {
   "computePreferences": null,
   "dashboards": [],
   "environmentMetadata": {
    "base_environment": "",
    "environment_version": "2"
   },
   "language": "python",
   "notebookMetadata": {
    "pythonIndentUnit": 4
   },
   "notebookName": "Temp_Notebook",
   "widgets": {}
  },
  "language_info": {
   "name": "python"
  }
 },
 "nbformat": 4,
 "nbformat_minor": 0
}
